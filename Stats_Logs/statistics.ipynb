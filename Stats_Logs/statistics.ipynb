{
 "cells": [
  {
   "cell_type": "code",
   "execution_count": 1,
   "id": "cc31663b-8882-495a-b001-f775fc0f9a79",
   "metadata": {},
   "outputs": [],
   "source": [
    "from io import StringIO\n",
    "\n",
    "import matplotlib.pyplot as plt\n",
    "import numpy as np\n",
    "import pandas as pd\n",
    "from numpy import NaN\n",
    "from pylab import rcParams\n",
    "\n",
    "rcParams[\"figure.figsize\"] = 16, 4"
   ]
  },
  {
   "cell_type": "markdown",
   "id": "ed550d0f-007c-4431-b443-f53bc5731935",
   "metadata": {
    "tags": []
   },
   "source": [
    "## Log file"
   ]
  },
  {
   "cell_type": "markdown",
   "id": "bd46e596-f71c-4148-aca0-d9bab090b1dc",
   "metadata": {},
   "source": [
    "**For a fair comparison between groups, must follow the output format below**\n",
    "<br>$\\color{red}{\\text{{seq}|{timestamp\\_tx}|{timestamp\\_rx}|{payload in hex}|{rssi}}}$\n",
    "<br> seq (decimal); timestamps (ticks with rtimer), payload (hex).\n",
    "***\n",
    "<br>*Example log file output for one packet with seq number \"0x00\", \"0x01\", \"0x02\"\n",
    "<br>transmitter timestamp xxxx, reciever timestamp xxxx and random payload length 32)*\n",
    "<br>0|66405|1781766|2f c2 39 44 d3 16 7d b8 b7 aa 01 6c db 7e c5 60 3f 92 c9 94 e3 e6 0d 08 c7 7a 91 bc eb 4e 55 b0 |-31\n",
    "<br>1|128906|1844756|3c 6b ce d5 30 cf e2 d9 64 73 36 1d d8 57 ca a1 8c 7b 9e 65 80 df b2 69 b4 83 06 ad 28 67 9a 31 |-29\n",
    "<br>2|191408|1906287|49 14 63 66 8d 88 47 fa 11 3c 6b ce d5 30 cf e2 d9 64 73 36 1d d8 57 ca a1 8c 7b 9e 65 80 df b2 |-30\n",
    "<br>$\\color{red}{\\text{delimiter for four variables is \"|\" and delimiter for the payload each byte is the space \" \".}}$"
   ]
  },
  {
   "cell_type": "code",
   "execution_count": 2,
   "id": "90ec1a39-ca57-4e4c-b001-aa6debb1da99",
   "metadata": {},
   "outputs": [],
   "source": [
    "def readfile(filename):\n",
    "    types = {\n",
    "        \"seq\": int,\n",
    "        \"time_tx\": float,\n",
    "        \"time_rx\": float,\n",
    "        \"payload\": str,\n",
    "        \"rssi\": int,\n",
    "    }\n",
    "    df = pd.read_csv(\n",
    "        StringIO(\" \".join(l for l in open(filename))),\n",
    "        skiprows=0,\n",
    "        header=None,\n",
    "        dtype=types,\n",
    "        delim_whitespace=False,\n",
    "        delimiter=\"|\",\n",
    "    )\n",
    "    df.columns = [\"seq\", \"time_tx\", \"time_rx\", \"payload\", \"rssi\"]\n",
    "    df.dropna(inplace=True)\n",
    "    # print(df.describe())\n",
    "    return df"
   ]
  },
  {
   "cell_type": "code",
   "execution_count": 3,
   "id": "6b884982-520f-4d73-9e58-1d5114b1c0a2",
   "metadata": {},
   "outputs": [
    {
     "data": {
      "text/html": [
       "<div>\n",
       "<style scoped>\n",
       "    .dataframe tbody tr th:only-of-type {\n",
       "        vertical-align: middle;\n",
       "    }\n",
       "\n",
       "    .dataframe tbody tr th {\n",
       "        vertical-align: top;\n",
       "    }\n",
       "\n",
       "    .dataframe thead th {\n",
       "        text-align: right;\n",
       "    }\n",
       "</style>\n",
       "<table border=\"1\" class=\"dataframe\">\n",
       "  <thead>\n",
       "    <tr style=\"text-align: right;\">\n",
       "      <th></th>\n",
       "      <th>seq</th>\n",
       "      <th>time_tx</th>\n",
       "      <th>time_rx</th>\n",
       "      <th>payload</th>\n",
       "      <th>rssi</th>\n",
       "    </tr>\n",
       "  </thead>\n",
       "  <tbody>\n",
       "    <tr>\n",
       "      <th>0</th>\n",
       "      <td>0</td>\n",
       "      <td>2767616</td>\n",
       "      <td>3567153</td>\n",
       "      <td>2f c2 39 44 d3 16 7d b8 b7 aa 01 6c db 7e c5 6...</td>\n",
       "      <td>-127</td>\n",
       "    </tr>\n",
       "    <tr>\n",
       "      <th>1</th>\n",
       "      <td>1</td>\n",
       "      <td>4767744</td>\n",
       "      <td>3574478</td>\n",
       "      <td>3c 6b ce d5 30 cf e2 d9 64 73 36 1d d8 57 ca a...</td>\n",
       "      <td>-127</td>\n",
       "    </tr>\n",
       "    <tr>\n",
       "      <th>2</th>\n",
       "      <td>2</td>\n",
       "      <td>6767616</td>\n",
       "      <td>3580826</td>\n",
       "      <td>49 14 63 66 8d 88 47 fa 11 3c 6b ce d5 30 cf e...</td>\n",
       "      <td>-127</td>\n",
       "    </tr>\n",
       "    <tr>\n",
       "      <th>3</th>\n",
       "      <td>3</td>\n",
       "      <td>8767744</td>\n",
       "      <td>3590104</td>\n",
       "      <td>56 bd f8 f7 ea 41 ac 1b be 05 a0 7f d2 09 d4 2...</td>\n",
       "      <td>-127</td>\n",
       "    </tr>\n",
       "    <tr>\n",
       "      <th>4</th>\n",
       "      <td>4</td>\n",
       "      <td>10767616</td>\n",
       "      <td>3597428</td>\n",
       "      <td>63 66 8d 88 47 fa 11 3c 6b ce d5 30 cf e2 d9 6...</td>\n",
       "      <td>-127</td>\n",
       "    </tr>\n",
       "    <tr>\n",
       "      <th>5</th>\n",
       "      <td>5</td>\n",
       "      <td>12767744</td>\n",
       "      <td>3603776</td>\n",
       "      <td>70 0f 22 19 a4 b3 76 5d 18 97 0a e1 cc bb de a...</td>\n",
       "      <td>-127</td>\n",
       "    </tr>\n",
       "    <tr>\n",
       "      <th>6</th>\n",
       "      <td>6</td>\n",
       "      <td>14767616</td>\n",
       "      <td>3611105</td>\n",
       "      <td>7d b8 b7 aa 01 6c db 7e c5 60 3f 92 c9 94 e3 e...</td>\n",
       "      <td>-127</td>\n",
       "    </tr>\n",
       "    <tr>\n",
       "      <th>7</th>\n",
       "      <td>7</td>\n",
       "      <td>16767744</td>\n",
       "      <td>3619889</td>\n",
       "      <td>8a 61 4c 3b 5e 25 40 9f 72 29 74 43 c6 6d e8 2...</td>\n",
       "      <td>-127</td>\n",
       "    </tr>\n",
       "    <tr>\n",
       "      <th>8</th>\n",
       "      <td>8</td>\n",
       "      <td>18767872</td>\n",
       "      <td>3628190</td>\n",
       "      <td>97 0a e1 cc bb de a5 c0 1f f2 a9 f4 c3 46 ed 6...</td>\n",
       "      <td>-127</td>\n",
       "    </tr>\n",
       "    <tr>\n",
       "      <th>9</th>\n",
       "      <td>9</td>\n",
       "      <td>20767744</td>\n",
       "      <td>3634543</td>\n",
       "      <td>a4 b3 76 5d 18 97 0a e1 cc bb de a5 c0 1f f2 a...</td>\n",
       "      <td>-127</td>\n",
       "    </tr>\n",
       "  </tbody>\n",
       "</table>\n",
       "</div>"
      ],
      "text/plain": [
       "   seq   time_tx  time_rx                                            payload  \\\n",
       "0    0   2767616  3567153  2f c2 39 44 d3 16 7d b8 b7 aa 01 6c db 7e c5 6...   \n",
       "1    1   4767744  3574478  3c 6b ce d5 30 cf e2 d9 64 73 36 1d d8 57 ca a...   \n",
       "2    2   6767616  3580826  49 14 63 66 8d 88 47 fa 11 3c 6b ce d5 30 cf e...   \n",
       "3    3   8767744  3590104  56 bd f8 f7 ea 41 ac 1b be 05 a0 7f d2 09 d4 2...   \n",
       "4    4  10767616  3597428  63 66 8d 88 47 fa 11 3c 6b ce d5 30 cf e2 d9 6...   \n",
       "5    5  12767744  3603776  70 0f 22 19 a4 b3 76 5d 18 97 0a e1 cc bb de a...   \n",
       "6    6  14767616  3611105  7d b8 b7 aa 01 6c db 7e c5 60 3f 92 c9 94 e3 e...   \n",
       "7    7  16767744  3619889  8a 61 4c 3b 5e 25 40 9f 72 29 74 43 c6 6d e8 2...   \n",
       "8    8  18767872  3628190  97 0a e1 cc bb de a5 c0 1f f2 a9 f4 c3 46 ed 6...   \n",
       "9    9  20767744  3634543  a4 b3 76 5d 18 97 0a e1 cc bb de a5 c0 1f f2 a...   \n",
       "\n",
       "   rssi  \n",
       "0  -127  \n",
       "1  -127  \n",
       "2  -127  \n",
       "3  -127  \n",
       "4  -127  \n",
       "5  -127  \n",
       "6  -127  \n",
       "7  -127  \n",
       "8  -127  \n",
       "9  -127  "
      ]
     },
     "execution_count": 3,
     "metadata": {},
     "output_type": "execute_result"
    }
   ],
   "source": [
    "# define the file name\n",
    "filename = \"log_220407\"\n",
    "# import file to jupyter notebook\n",
    "df = readfile(\"./\" + filename + \".csv\")\n",
    "\n",
    "# check the imported data first 10 lines\n",
    "df.head(10)"
   ]
  },
  {
   "cell_type": "markdown",
   "id": "829bcbef-b2b4-4648-a5b9-4957091d050c",
   "metadata": {
    "tags": []
   },
   "source": [
    "# Delay"
   ]
  },
  {
   "cell_type": "markdown",
   "id": "a0f611df-7fa9-46b4-8e8d-df0339225306",
   "metadata": {
    "tags": []
   },
   "source": [
    "## Definition"
   ]
  },
  {
   "cell_type": "markdown",
   "id": "776659f3-1a63-45f8-a931-b6f28589758c",
   "metadata": {},
   "source": [
    "**Evaluation metric**\n",
    "<br>*File delay: the total latency that certain amount of Data $F$ is delivered to the destination.*\n",
    "<br> $File\\ Delay = Rx\\_timestamp[N] - Rx\\_timestamp[0]$\n",
    "<br> where $N$ is the last packet\n",
    "***\n",
    "**Interesting to look at**:\n",
    "<br>*Timestamp difference*: $\\Delta T[i] = Rx\\_timestamp[i] - Tx\\_timestamp[i]$\n",
    "1. *Worst-case packet delay*: the delay of the packet that takes the longest time to traverse.\n",
    "2. *Packet delay variation*: the std of the packet delay."
   ]
  },
  {
   "cell_type": "code",
   "execution_count": 4,
   "id": "c0b541ad-6178-4af7-b864-6288dedaf1bd",
   "metadata": {},
   "outputs": [
    {
     "name": "stdout",
     "output_type": "stream",
     "text": [
      "The time it takes to transfer the file is : 2443377 (ticks with rtimer).\n",
      "The time it takes to transfer the file is: 39.094032 (seconds).\n"
     ]
    }
   ],
   "source": [
    "# compute the file delay\n",
    "file_delay = df.time_rx[len(df) - 1] - df.time_rx[0]\n",
    "print(f\"The time it takes to transfer the file is : {file_delay} (ticks with rtimer).\")\n",
    "delay_in_s = file_delay/62500\n",
    "print(f\"The time it takes to transfer the file is: {delay_in_s} (seconds).\")"
   ]
  },
  {
   "cell_type": "markdown",
   "id": "34283519-60b5-407b-84b2-e90fff272ba0",
   "metadata": {
    "tags": []
   },
   "source": [
    "## Statistics"
   ]
  },
  {
   "cell_type": "code",
   "execution_count": 5,
   "id": "e992346c-ff04-4bd5-afc6-05ed3bf6c404",
   "metadata": {},
   "outputs": [
    {
     "data": {
      "text/html": [
       "<div>\n",
       "<style scoped>\n",
       "    .dataframe tbody tr th:only-of-type {\n",
       "        vertical-align: middle;\n",
       "    }\n",
       "\n",
       "    .dataframe tbody tr th {\n",
       "        vertical-align: top;\n",
       "    }\n",
       "\n",
       "    .dataframe thead th {\n",
       "        text-align: right;\n",
       "    }\n",
       "</style>\n",
       "<table border=\"1\" class=\"dataframe\">\n",
       "  <thead>\n",
       "    <tr style=\"text-align: right;\">\n",
       "      <th></th>\n",
       "      <th>seq</th>\n",
       "      <th>time_tx</th>\n",
       "      <th>time_rx</th>\n",
       "      <th>payload</th>\n",
       "      <th>rssi</th>\n",
       "      <th>delta_t</th>\n",
       "    </tr>\n",
       "  </thead>\n",
       "  <tbody>\n",
       "    <tr>\n",
       "      <th>0</th>\n",
       "      <td>0</td>\n",
       "      <td>2767616</td>\n",
       "      <td>3567153</td>\n",
       "      <td>2f c2 39 44 d3 16 7d b8 b7 aa 01 6c db 7e c5 6...</td>\n",
       "      <td>-127</td>\n",
       "      <td>799537</td>\n",
       "    </tr>\n",
       "    <tr>\n",
       "      <th>1</th>\n",
       "      <td>1</td>\n",
       "      <td>4767744</td>\n",
       "      <td>3574478</td>\n",
       "      <td>3c 6b ce d5 30 cf e2 d9 64 73 36 1d d8 57 ca a...</td>\n",
       "      <td>-127</td>\n",
       "      <td>-1193266</td>\n",
       "    </tr>\n",
       "    <tr>\n",
       "      <th>2</th>\n",
       "      <td>2</td>\n",
       "      <td>6767616</td>\n",
       "      <td>3580826</td>\n",
       "      <td>49 14 63 66 8d 88 47 fa 11 3c 6b ce d5 30 cf e...</td>\n",
       "      <td>-127</td>\n",
       "      <td>-3186790</td>\n",
       "    </tr>\n",
       "    <tr>\n",
       "      <th>3</th>\n",
       "      <td>3</td>\n",
       "      <td>8767744</td>\n",
       "      <td>3590104</td>\n",
       "      <td>56 bd f8 f7 ea 41 ac 1b be 05 a0 7f d2 09 d4 2...</td>\n",
       "      <td>-127</td>\n",
       "      <td>-5177640</td>\n",
       "    </tr>\n",
       "    <tr>\n",
       "      <th>4</th>\n",
       "      <td>4</td>\n",
       "      <td>10767616</td>\n",
       "      <td>3597428</td>\n",
       "      <td>63 66 8d 88 47 fa 11 3c 6b ce d5 30 cf e2 d9 6...</td>\n",
       "      <td>-127</td>\n",
       "      <td>-7170188</td>\n",
       "    </tr>\n",
       "    <tr>\n",
       "      <th>5</th>\n",
       "      <td>5</td>\n",
       "      <td>12767744</td>\n",
       "      <td>3603776</td>\n",
       "      <td>70 0f 22 19 a4 b3 76 5d 18 97 0a e1 cc bb de a...</td>\n",
       "      <td>-127</td>\n",
       "      <td>-9163968</td>\n",
       "    </tr>\n",
       "    <tr>\n",
       "      <th>6</th>\n",
       "      <td>6</td>\n",
       "      <td>14767616</td>\n",
       "      <td>3611105</td>\n",
       "      <td>7d b8 b7 aa 01 6c db 7e c5 60 3f 92 c9 94 e3 e...</td>\n",
       "      <td>-127</td>\n",
       "      <td>-11156511</td>\n",
       "    </tr>\n",
       "    <tr>\n",
       "      <th>7</th>\n",
       "      <td>7</td>\n",
       "      <td>16767744</td>\n",
       "      <td>3619889</td>\n",
       "      <td>8a 61 4c 3b 5e 25 40 9f 72 29 74 43 c6 6d e8 2...</td>\n",
       "      <td>-127</td>\n",
       "      <td>-13147855</td>\n",
       "    </tr>\n",
       "    <tr>\n",
       "      <th>8</th>\n",
       "      <td>8</td>\n",
       "      <td>18767872</td>\n",
       "      <td>3628190</td>\n",
       "      <td>97 0a e1 cc bb de a5 c0 1f f2 a9 f4 c3 46 ed 6...</td>\n",
       "      <td>-127</td>\n",
       "      <td>-15139682</td>\n",
       "    </tr>\n",
       "    <tr>\n",
       "      <th>9</th>\n",
       "      <td>9</td>\n",
       "      <td>20767744</td>\n",
       "      <td>3634543</td>\n",
       "      <td>a4 b3 76 5d 18 97 0a e1 cc bb de a5 c0 1f f2 a...</td>\n",
       "      <td>-127</td>\n",
       "      <td>-17133201</td>\n",
       "    </tr>\n",
       "  </tbody>\n",
       "</table>\n",
       "</div>"
      ],
      "text/plain": [
       "   seq   time_tx  time_rx                                            payload  \\\n",
       "0    0   2767616  3567153  2f c2 39 44 d3 16 7d b8 b7 aa 01 6c db 7e c5 6...   \n",
       "1    1   4767744  3574478  3c 6b ce d5 30 cf e2 d9 64 73 36 1d d8 57 ca a...   \n",
       "2    2   6767616  3580826  49 14 63 66 8d 88 47 fa 11 3c 6b ce d5 30 cf e...   \n",
       "3    3   8767744  3590104  56 bd f8 f7 ea 41 ac 1b be 05 a0 7f d2 09 d4 2...   \n",
       "4    4  10767616  3597428  63 66 8d 88 47 fa 11 3c 6b ce d5 30 cf e2 d9 6...   \n",
       "5    5  12767744  3603776  70 0f 22 19 a4 b3 76 5d 18 97 0a e1 cc bb de a...   \n",
       "6    6  14767616  3611105  7d b8 b7 aa 01 6c db 7e c5 60 3f 92 c9 94 e3 e...   \n",
       "7    7  16767744  3619889  8a 61 4c 3b 5e 25 40 9f 72 29 74 43 c6 6d e8 2...   \n",
       "8    8  18767872  3628190  97 0a e1 cc bb de a5 c0 1f f2 a9 f4 c3 46 ed 6...   \n",
       "9    9  20767744  3634543  a4 b3 76 5d 18 97 0a e1 cc bb de a5 c0 1f f2 a...   \n",
       "\n",
       "   rssi   delta_t  \n",
       "0  -127    799537  \n",
       "1  -127  -1193266  \n",
       "2  -127  -3186790  \n",
       "3  -127  -5177640  \n",
       "4  -127  -7170188  \n",
       "5  -127  -9163968  \n",
       "6  -127 -11156511  \n",
       "7  -127 -13147855  \n",
       "8  -127 -15139682  \n",
       "9  -127 -17133201  "
      ]
     },
     "execution_count": 5,
     "metadata": {},
     "output_type": "execute_result"
    }
   ],
   "source": [
    "# compute the Delta_t metric\n",
    "df[\"delta_t\"] = df[\"time_rx\"] - df[\"time_tx\"]\n",
    "# check the updated dataframe first 10 lines\n",
    "df.head(10)"
   ]
  },
  {
   "cell_type": "code",
   "execution_count": 6,
   "id": "3efa3320-c985-4e70-a8b7-9e34db15fb8f",
   "metadata": {},
   "outputs": [
    {
     "data": {
      "image/png": "[encoded data removed]",
      "text/plain": [
       "<Figure size 1152x288 with 1 Axes>"
      ]
     },
     "metadata": {
      "needs_background": "light"
     },
     "output_type": "display_data"
    }
   ],
   "source": [
    "# visual delta_t along with the timeline\n",
    "plt.plot(df[\"delta_t\"], color=\"black\")\n",
    "\n",
    "plt.xlabel(\"$time$\", fontsize=16)\n",
    "plt.ylabel(\"$\\Delta\\ t$\", fontsize=16)\n",
    "plt.grid()"
   ]
  },
  {
   "cell_type": "code",
   "execution_count": 7,
   "id": "eadbc12f-79cd-4369-80c6-ed175368db1b",
   "metadata": {},
   "outputs": [
    {
     "data": {
      "image/png": "[encoded data removed]",
      "text/plain": [
       "<Figure size 1152x288 with 1 Axes>"
      ]
     },
     "metadata": {
      "needs_background": "light"
     },
     "output_type": "display_data"
    }
   ],
   "source": [
    "# visual delta_t distribution with histogram\n",
    "plt.hist(df[\"delta_t\"], color=\"black\", edgecolor=\"black\", bins=10)\n",
    "\n",
    "plt.xlabel(\"$\\Delta\\ t$\", fontsize=16)\n",
    "plt.ylabel(\"Number of packet\", fontsize=16)\n",
    "plt.grid()"
   ]
  },
  {
   "cell_type": "code",
   "execution_count": 8,
   "id": "9451b5a2-cd7e-471d-abb5-77c7b38453b5",
   "metadata": {},
   "outputs": [
    {
     "name": "stdout",
     "output_type": "stream",
     "text": [
      "worse-case delta_t t$: 799537 \n",
      "delta_t variation: 180868429.2248361 \n"
     ]
    }
   ],
   "source": [
    "# Worst-case delay\n",
    "wc_t = max(df[\"delta_t\"])\n",
    "\n",
    "# Delay std\n",
    "std_t = df.delta_t.std()\n",
    "\n",
    "print(f\"worse-case delta_t t$: {wc_t} \\ndelta_t variation: {std_t} \")"
   ]
  },
  {
   "cell_type": "markdown",
   "id": "321503b0-e6fd-4505-829f-8df6e39ba7a2",
   "metadata": {
    "tags": []
   },
   "source": [
    "# Reliability"
   ]
  },
  {
   "cell_type": "markdown",
   "id": "74382050-0739-4920-abf0-2eb3cb035814",
   "metadata": {},
   "source": [
    "## Definition"
   ]
  },
  {
   "cell_type": "markdown",
   "id": "4910707b-e484-466e-adbe-09a27495ef93",
   "metadata": {},
   "source": [
    "**Evaluation metric**\n",
    "<br>*Quality of data transfer.*\n",
    "<br> *File correctness*: the ratio of file correctly delivered to the data sink.\n",
    "***\n",
    "**Interesting to look at**:\n",
    "1. *Expected number of transmission*: the ratio of the number of packets correctly received by the data sink and the number of packets sent by the source.\n",
    "\n",
    "$$ETX = \\frac{Number\\ of\\ packet\\ received}{Number\\ of\\ packet\\ sent}$$\n",
    "\n",
    "2. *Packet reliability*: the number of packet bit correctly delivered to next hop.\n",
    "$$Bit\\ reliability[i] = 1 - BER[i] = 1 - \\frac{Number\\ of\\ wrong\\ bit}{Total\\ Number\\ of\\ bit\\ sent}$$"
   ]
  },
  {
   "cell_type": "markdown",
   "id": "4a776d52-88ef-430d-9503-e78d3d6db044",
   "metadata": {
    "tags": []
   },
   "source": [
    "## Statistics"
   ]
  },
  {
   "cell_type": "code",
   "execution_count": 9,
   "id": "1390044e-d7a1-4c01-8a7f-df2f4e032d54",
   "metadata": {},
   "outputs": [],
   "source": [
    "def parse_payload(payload_string):\n",
    "    tmp = map(lambda x: int(x, base=16), payload_string.split())\n",
    "    return list(tmp)\n",
    "\n",
    "\n",
    "def compute_sequence(seed, length):\n",
    "    A1 = 1664525\n",
    "    C1 = 1013904223\n",
    "    RAND_MAX1 = (1 << 31) - 1  #\n",
    "    MAX_BYTE = (1 << 8) - 1  # one byte\n",
    "    num = seed | (1 << 4)  # seed (4 bites) is part of the seq number\n",
    "    seq = list()\n",
    "    for _ in range(length):  # generate the random payload byte by byte\n",
    "        num = (num * A1 + C1) & RAND_MAX1\n",
    "        seq.append(num & MAX_BYTE)\n",
    "    return seq\n",
    "\n",
    "\n",
    "def popcount(n):\n",
    "    return bin(n).count(\"1\")\n",
    "\n",
    "\n",
    "def compute_bit_errors(payload, sequence):\n",
    "    return sum(\n",
    "        map(\n",
    "            popcount,\n",
    "            (\n",
    "                np.array(payload[:PACKET_LEN])\n",
    "                ^ np.array(sequence[: len(payload[:PACKET_LEN])])\n",
    "            ),\n",
    "        )\n",
    "    )\n",
    "\n",
    "\n",
    "def compute_ber(df, PACKET_LEN):\n",
    "    packets = len(df)\n",
    "    \n",
    "    # dataframe records the bit error for each packet\n",
    "    error = pd.DataFrame(columns=['seq', 'bit_errors'])\n",
    "    # seq number initialization\n",
    "    error.seq = range(df.seq[0], df.seq[packets-1]+1)\n",
    "    # bit_errors list initialization\n",
    "    error.bit_errors = [list() for x in range(len(error))]\n",
    "    \n",
    "    file_size = len(error) * PACKET_LEN * 8\n",
    "    \n",
    "    # start count the error bits\n",
    "    for idx in range(packets):\n",
    "        # return the matched row index for the specific seq number in log file\n",
    "        error_idx = error.index[error.seq == df.seq[idx]][0]\n",
    "        # compute the bit errors\n",
    "        payload = parse_payload(df.payload[idx])\n",
    "        sequence = compute_sequence(df.seq[idx], PACKET_LEN)\n",
    "        error.bit_errors[error_idx].append(compute_bit_errors(payload, sequence))\n",
    "\n",
    "    # total bit error counter initialization\n",
    "    counter = 0\n",
    "    # for the lost packet \n",
    "    for l in error.bit_errors:\n",
    "        if l == []: \n",
    "            counter += PACKET_LEN*8 # when the seq number is lost, consider the entire packet payload as error\n",
    "        else:\n",
    "            counter += min(l) # when the seq number received several times, consider the minimum error\n",
    "    print(error)\n",
    "    return counter / file_size"
   ]
  },
  {
   "cell_type": "code",
   "execution_count": 10,
   "id": "6c241990-9a2b-4422-9872-1bd87efdf803",
   "metadata": {},
   "outputs": [
    {
     "name": "stdout",
     "output_type": "stream",
     "text": [
      "49 14 63 66 8d 88 47 fa 11 3c 6b ce d5 30 cf e2 d9 64 73 36 1d d8 57 ca a1 8c 7b 9e 65 80 df b2 "
     ]
    }
   ],
   "source": [
    "# payload example for debug purpose\n",
    "# correct sequence for seq NO. 'ae'\n",
    "PACKET_LEN = 32  # packet payload length defined by the transmitter\n",
    "tmp = compute_sequence(int(\"02\", base=16), PACKET_LEN)\n",
    "for i in tmp:\n",
    "    print(\"{:02x}\".format(i), end=\" \")"
   ]
  },
  {
   "cell_type": "code",
   "execution_count": 11,
   "id": "9ff4bdbc-1b7e-4fa7-8590-c63778adf4d0",
   "metadata": {},
   "outputs": [
    {
     "name": "stdout",
     "output_type": "stream",
     "text": [
      "     seq bit_errors\n",
      "0      0        [0]\n",
      "1      1        [0]\n",
      "2      2        [0]\n",
      "3      3        [0]\n",
      "4      4        [0]\n",
      "..   ...        ...\n",
      "309  309        [0]\n",
      "310  310        [0]\n",
      "311  311        [0]\n",
      "312  312        [0]\n",
      "313  313        [0]\n",
      "\n",
      "[314 rows x 2 columns]\n",
      "Bit reliability: 1.0\n"
     ]
    }
   ],
   "source": [
    "PACKET_LEN = 32  # packet payload length defined by the transmitter\n",
    "\n",
    "# compute the BER for all received packets\n",
    "ber = compute_ber(df, PACKET_LEN=PACKET_LEN)\n",
    "print(f\"Bit reliability: {1-ber}\")"
   ]
  },
  {
   "cell_type": "markdown",
   "id": "eb9a35d0-bcac-42c5-9268-8cc81b1c9d72",
   "metadata": {
    "tags": []
   },
   "source": [
    "# Energy consumption"
   ]
  },
  {
   "cell_type": "markdown",
   "id": "76f4cce2-7715-4353-8dee-e59f35e5151f",
   "metadata": {},
   "source": [
    "## Definition"
   ]
  },
  {
   "cell_type": "markdown",
   "id": "f42016e6-6023-4fec-ace2-5a7c9d86dc19",
   "metadata": {},
   "source": [
    "**The total number of energy for the file transmitted and receiving during the file transmission.**\n",
    "<br> system energy consumption = Transmission energy consumption + Relay energy consumption\n",
    "1. Transmission energy consumption: measure transmitter with power profiler kit (PPK2)\n",
    "2. Relay energy consumption: measure relay node with PPK2\n",
    "***\n",
    "<a href=\"https://infocenter.nordicsemi.com/index.jsp?topic=%2Fug_nrf52840_dk%2FUG%2Fdk%2Fintro.html\">Power measurement guidelines</a>"
   ]
  },
  {
   "cell_type": "code",
   "execution_count": 14,
   "id": "98d6bb8d-8bc8-4aa6-ab00-c648fc567db9",
   "metadata": {},
   "outputs": [
    {
     "data": {
      "text/html": [
       "<div>\n",
       "<style scoped>\n",
       "    .dataframe tbody tr th:only-of-type {\n",
       "        vertical-align: middle;\n",
       "    }\n",
       "\n",
       "    .dataframe tbody tr th {\n",
       "        vertical-align: top;\n",
       "    }\n",
       "\n",
       "    .dataframe thead th {\n",
       "        text-align: right;\n",
       "    }\n",
       "</style>\n",
       "<table border=\"1\" class=\"dataframe\">\n",
       "  <thead>\n",
       "    <tr style=\"text-align: right;\">\n",
       "      <th></th>\n",
       "      <th>Timestamp(ms)</th>\n",
       "      <th>Current(uA)</th>\n",
       "      <th>D0-D7</th>\n",
       "    </tr>\n",
       "  </thead>\n",
       "  <tbody>\n",
       "    <tr>\n",
       "      <th>0</th>\n",
       "      <td>378.35</td>\n",
       "      <td>13161.905</td>\n",
       "      <td>0</td>\n",
       "    </tr>\n",
       "    <tr>\n",
       "      <th>1</th>\n",
       "      <td>378.36</td>\n",
       "      <td>12929.466</td>\n",
       "      <td>0</td>\n",
       "    </tr>\n",
       "    <tr>\n",
       "      <th>2</th>\n",
       "      <td>378.37</td>\n",
       "      <td>13487.852</td>\n",
       "      <td>0</td>\n",
       "    </tr>\n",
       "    <tr>\n",
       "      <th>3</th>\n",
       "      <td>378.38</td>\n",
       "      <td>13115.393</td>\n",
       "      <td>0</td>\n",
       "    </tr>\n",
       "    <tr>\n",
       "      <th>4</th>\n",
       "      <td>378.39</td>\n",
       "      <td>13254.970</td>\n",
       "      <td>0</td>\n",
       "    </tr>\n",
       "    <tr>\n",
       "      <th>5</th>\n",
       "      <td>378.40</td>\n",
       "      <td>13394.661</td>\n",
       "      <td>0</td>\n",
       "    </tr>\n",
       "    <tr>\n",
       "      <th>6</th>\n",
       "      <td>378.41</td>\n",
       "      <td>13208.432</td>\n",
       "      <td>0</td>\n",
       "    </tr>\n",
       "    <tr>\n",
       "      <th>7</th>\n",
       "      <td>378.42</td>\n",
       "      <td>13394.661</td>\n",
       "      <td>0</td>\n",
       "    </tr>\n",
       "    <tr>\n",
       "      <th>8</th>\n",
       "      <td>378.43</td>\n",
       "      <td>13301.521</td>\n",
       "      <td>0</td>\n",
       "    </tr>\n",
       "    <tr>\n",
       "      <th>9</th>\n",
       "      <td>378.44</td>\n",
       "      <td>13161.905</td>\n",
       "      <td>0</td>\n",
       "    </tr>\n",
       "  </tbody>\n",
       "</table>\n",
       "</div>"
      ],
      "text/plain": [
       "   Timestamp(ms)  Current(uA)  D0-D7\n",
       "0         378.35    13161.905      0\n",
       "1         378.36    12929.466      0\n",
       "2         378.37    13487.852      0\n",
       "3         378.38    13115.393      0\n",
       "4         378.39    13254.970      0\n",
       "5         378.40    13394.661      0\n",
       "6         378.41    13208.432      0\n",
       "7         378.42    13394.661      0\n",
       "8         378.43    13301.521      0\n",
       "9         378.44    13161.905      0"
      ]
     },
     "execution_count": 14,
     "metadata": {},
     "output_type": "execute_result"
    }
   ],
   "source": [
    "# load ppk data for the transmitter\n",
    "energy_tx = pd.read_csv(\"./ppk_220407.csv\")\n",
    "\n",
    "# check the imported data first 10 lines\n",
    "energy_tx.head(10)"
   ]
  },
  {
   "cell_type": "code",
   "execution_count": 15,
   "id": "8ab952c0-6ce4-4264-aea2-12a70d2321e8",
   "metadata": {},
   "outputs": [
    {
     "name": "stdout",
     "output_type": "stream",
     "text": [
      "The total charge (current*time) [mC]: 36.64524431995082 \n",
      "The total energy consumption is [mW]: 40.22382384832332\n"
     ]
    }
   ],
   "source": [
    "# the voltage (controlled by the PPK2, in the example log we set it as 4000 mV)\n",
    "voltage = 3000 / 1e3  # mV to V\n",
    "\n",
    "# the power consumption\n",
    "average_current = energy_tx.iloc[:, 1].mean() / 1e6  # mA to A\n",
    "time = (energy_tx.iloc[-1, 0] - energy_tx.iloc[0, 0]) / 1e3  # ms to S\n",
    "charge = average_current * time  # unit is C\n",
    "power = average_current * voltage\n",
    "\n",
    "print(\n",
    "    f\"The total charge (current*time) [mC]: {charge*1e3} \\nThe total energy consumption is [mW]: {power*1e3}\"\n",
    ")"
   ]
  },
  {
   "cell_type": "code",
   "execution_count": 16,
   "id": "73107f1c-2c80-4d93-a652-685d2f82292b",
   "metadata": {},
   "outputs": [
    {
     "data": {
      "image/png": "[encoded data removed]",
      "text/plain": [
       "<Figure size 1152x288 with 1 Axes>"
      ]
     },
     "metadata": {
      "needs_background": "light"
     },
     "output_type": "display_data"
    }
   ],
   "source": [
    "# the current log for three transmissions\n",
    "plt.plot(energy_tx.iloc[:, 1], color=\"black\")\n",
    "\n",
    "plt.xlabel(\"Time [ms]\", fontsize=16)\n",
    "plt.ylabel(\"Current (uA)\", fontsize=16)\n",
    "plt.grid()"
   ]
  },
  {
   "cell_type": "code",
   "execution_count": null,
   "id": "f79e2f1e-e25a-4c73-9916-03e1ec6e3f88",
   "metadata": {},
   "outputs": [],
   "source": []
  }
 ],
 "metadata": {
  "kernelspec": {
   "display_name": "Python 3",
   "language": "python",
   "name": "python3"
  },
  "language_info": {
   "codemirror_mode": {
    "name": "ipython",
    "version": 3
   },
   "file_extension": ".py",
   "mimetype": "text/x-python",
   "name": "python",
   "nbconvert_exporter": "python",
   "pygments_lexer": "ipython3",
   "version": "3.6.9"
  },
  "toc-autonumbering": true
 },
 "nbformat": 4,
 "nbformat_minor": 5
}
